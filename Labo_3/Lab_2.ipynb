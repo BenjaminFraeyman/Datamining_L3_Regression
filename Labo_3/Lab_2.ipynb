{
 "cells": [
  {
   "cell_type": "markdown",
   "metadata": {},
   "source": [
    "# Lab: Regression\n",
    "\n",
    "## Exercise 2: Univariate Linear Regression on real data\n",
    "\n",
    "> So far, no forecasting has been done. The regression line has been calculated for the same training data that has been used for calculating the parameters. In this exercise, the data will be divided into training data and test data, and forecasting will be performed.\n",
    "\n",
    "> For this exercise, you will use a data set containing the number of Facebook friends being online at a specific time. The data is provided in the file online_friends.csv. A simple time series is given. The Y-NUMBER column contains the target variable $y$. The X-NUMBER column contains the input $X$. The DAY and TIME columns are indices and not relevant for this exercise.\n",
    "\n",
    "> The amount of friends being online at a specific time is to be forecasted based on previous values that have been measured per hour. Additionally, the Pearson correlation has to be determined for $y$ and $X$.\n"
   ]
  },
  {
   "cell_type": "markdown",
   "metadata": {},
   "source": [
    "### Imports"
   ]
  },
  {
   "cell_type": "code",
   "execution_count": 1,
   "metadata": {},
   "outputs": [],
   "source": [
    "import numpy as np\n",
    "from scipy import stats\n",
    "import matplotlib.pylab as plt\n",
    "import pandas as pd\n",
    "from sklearn.model_selection import train_test_split\n",
    "from sklearn.linear_model import SGDRegressor\n",
    "from datetime import datetime\n",
    "from sklearn.metrics import mean_squared_error"
   ]
  },
  {
   "cell_type": "markdown",
   "metadata": {},
   "source": [
    "### Read the data\n",
    "\n",
    "> Use the python [Pandas package](http://pandas.pydata.org/pandas-docs/stable/api.html) to load the csv file. Hint: the file is tab delimited."
   ]
  },
  {
   "cell_type": "code",
   "execution_count": 2,
   "metadata": {},
   "outputs": [
    {
     "data": {
      "text/html": [
       "<div>\n",
       "<style scoped>\n",
       "    .dataframe tbody tr th:only-of-type {\n",
       "        vertical-align: middle;\n",
       "    }\n",
       "\n",
       "    .dataframe tbody tr th {\n",
       "        vertical-align: top;\n",
       "    }\n",
       "\n",
       "    .dataframe thead th {\n",
       "        text-align: right;\n",
       "    }\n",
       "</style>\n",
       "<table border=\"1\" class=\"dataframe\">\n",
       "  <thead>\n",
       "    <tr style=\"text-align: right;\">\n",
       "      <th></th>\n",
       "      <th>DAY</th>\n",
       "      <th>TIME</th>\n",
       "      <th>Y-NUMBER</th>\n",
       "      <th>X-NUMBER</th>\n",
       "    </tr>\n",
       "  </thead>\n",
       "  <tbody>\n",
       "    <tr>\n",
       "      <th>0</th>\n",
       "      <td>Monday</td>\n",
       "      <td>00:00:00</td>\n",
       "      <td>6</td>\n",
       "      <td>4</td>\n",
       "    </tr>\n",
       "    <tr>\n",
       "      <th>1</th>\n",
       "      <td>Monday</td>\n",
       "      <td>01:00:00</td>\n",
       "      <td>4</td>\n",
       "      <td>2</td>\n",
       "    </tr>\n",
       "    <tr>\n",
       "      <th>2</th>\n",
       "      <td>Monday</td>\n",
       "      <td>02:00:00</td>\n",
       "      <td>3</td>\n",
       "      <td>0</td>\n",
       "    </tr>\n",
       "    <tr>\n",
       "      <th>3</th>\n",
       "      <td>Monday</td>\n",
       "      <td>03:00:00</td>\n",
       "      <td>3</td>\n",
       "      <td>0</td>\n",
       "    </tr>\n",
       "    <tr>\n",
       "      <th>4</th>\n",
       "      <td>Monday</td>\n",
       "      <td>04:00:00</td>\n",
       "      <td>1</td>\n",
       "      <td>0</td>\n",
       "    </tr>\n",
       "  </tbody>\n",
       "</table>\n",
       "</div>"
      ],
      "text/plain": [
       "      DAY      TIME  Y-NUMBER  X-NUMBER\n",
       "0  Monday  00:00:00         6         4\n",
       "1  Monday  01:00:00         4         2\n",
       "2  Monday  02:00:00         3         0\n",
       "3  Monday  03:00:00         3         0\n",
       "4  Monday  04:00:00         1         0"
      ]
     },
     "execution_count": 2,
     "metadata": {},
     "output_type": "execute_result"
    }
   ],
   "source": [
    "df = pd.read_csv('./online_friends.csv', sep=\"\\t\")\n",
    "df.head(5)"
   ]
  },
  {
   "cell_type": "markdown",
   "metadata": {},
   "source": [
    "### Determine the Pearson-Correlation of y and X\n",
    "\n",
    ">The Pearson Correlation is a measure of the linear dependence (correlation) between two variables. The result is a value between +1 and -1 inclusive. It can be used to examine the linear dependence of a target variable $y$ and the input variable $X$ in order to determine the suitability of input data to be used for linear models.\n",
    "\n",
    ">Determine the Pearson-Correlation for $y$ and $X$ by means of the stats.pearsonr() method of the scipy module.\n",
    "\n",
    "> Hint: pandas' dataformat is a dataframe. You can access a column by providing the name(s) of the column(s) you want like this: df['columnname'] .\n",
    "If you want the values from the column (not as a series or dataframe) you can do: df['columnname'].values"
   ]
  },
  {
   "cell_type": "code",
   "execution_count": 3,
   "metadata": {},
   "outputs": [
    {
     "name": "stdout",
     "output_type": "stream",
     "text": [
      "Pearson’s correlation coefficient: 0.8916838036059599\n",
      "2-tailed p-value: 4.9927401063575495e-59\n"
     ]
    }
   ],
   "source": [
    "# r = Pearson’s correlation coefficient\n",
    "# p = 2-tailed p-value\n",
    "# source = https://docs.scipy.org/doc/scipy/reference/generated/scipy.stats.pearsonr.html\n",
    "r, p = stats.pearsonr(df['Y-NUMBER'].values,df['X-NUMBER'].values)\n",
    "print \"Pearson’s correlation coefficient:\", r\n",
    "print \"2-tailed p-value:\", p"
   ]
  },
  {
   "cell_type": "markdown",
   "metadata": {},
   "source": [
    "### Question 1: What is the Pearson-Correlation value for (t and x1) / (X and y)? What does it say about the relation between these two variables?"
   ]
  },
  {
   "cell_type": "code",
   "execution_count": 4,
   "metadata": {},
   "outputs": [
    {
     "name": "stdout",
     "output_type": "stream",
     "text": [
      "t and X:\n",
      "\tPearson’s correlation coefficient: 0.7713693325724988\n",
      "X and y:\n",
      "\tPearson’s correlation coefficient: 0.8916838036059599\n"
     ]
    }
   ],
   "source": [
    "df_new = df.copy()\n",
    "def stringTime(string):\n",
    "    return datetime.strptime(string, \"%H:00:00\").hour\n",
    "df_new['TIME'] = df['TIME'].apply(stringTime)\n",
    "r, p = stats.pearsonr(df_new['TIME'].values,df_new['X-NUMBER'].values)\n",
    "print \"t and X:\"\n",
    "print \"\\tPearson’s correlation coefficient:\", r\n",
    "\n",
    "r, p = stats.pearsonr(df['X-NUMBER'].values,df['Y-NUMBER'].values)\n",
    "print \"X and y:\"\n",
    "print \"\\tPearson’s correlation coefficient:\", r"
   ]
  },
  {
   "cell_type": "markdown",
   "metadata": {},
   "source": [
    "The Pearson correlation coefficient measures the linear relationship between two datasets. Strictly speaking, Pearson’s correlation requires that each dataset be normally distributed, and not necessarily zero-mean. Like other correlation coefficients, this one varies between -1 and +1 with 0 implying no correlation. Correlations of -1 or +1 imply an exact linear relationship. Positive correlations imply that as x increases, so does y. Negative correlations imply that as x increases, y decreases.\n",
    "\n",
    "The p-value roughly indicates the probability of an uncorrelated system producing datasets that have a Pearson correlation at least as extreme as the one computed from these datasets. The p-values are not entirely reliable but are probably reasonable for datasets larger than 500 or so.\n",
    "\n",
    "source = https://docs.scipy.org/doc/scipy/reference/generated/scipy.stats.pearsonr.html"
   ]
  },
  {
   "cell_type": "markdown",
   "metadata": {},
   "source": [
    "### Split the data into training and test data by applying cross-validation\n",
    "\n",
    "> In order to evaluate the linear model, you’ll have to split $y$ and $X$ into training and test data, e.g. by means of cross-validation.Use the cross_validation.train_test_split() method from scikit-learn in order to receive the X_train, X_test, y_train and y_test subsets. You’ll have to set the method’s train_size parameter for determining the percentage of data to be used for training the model and how many data to be left for testing the model. Set the amount of training data on 80%.\n",
    "\n",
    "> Set the random_state parameter of the cross validation.train test split() method to \"0\" in order to assure that the data is always divided in the same way. Otherwise your results will differ each time you start the script (and therefore not fit with the sample solution for this exercise)\n",
    "\n",
    "> Make sure the X variable has the following shape: (n_rows,n_cols), n_cols will be equal to 1 at the moment."
   ]
  },
  {
   "cell_type": "code",
   "execution_count": 5,
   "metadata": {},
   "outputs": [
    {
     "name": "stdout",
     "output_type": "stream",
     "text": [
      "X_train shape: (134L, 1L)\n",
      "X_test shape: (34L, 1L)\n"
     ]
    },
    {
     "name": "stderr",
     "output_type": "stream",
     "text": [
      "C:\\ProgramData\\Anaconda2\\lib\\site-packages\\sklearn\\model_selection\\_split.py:2026: FutureWarning: From version 0.21, test_size will always complement train_size unless both are specified.\n",
      "  FutureWarning)\n"
     ]
    }
   ],
   "source": [
    "X_train, X_test, y_train, y_test = train_test_split(df['X-NUMBER'].values, df['Y-NUMBER'].values, train_size= 0.8, random_state=0)\n",
    "X_train = np.reshape(X_train, (-1, 1))\n",
    "X_test = np.reshape(X_test, (-1, 1))\n",
    "#y_train = np.reshape(y_train, (-1, 1))\n",
    "#y_test = np.reshape(y_test, (-1, 1))\n",
    "print \"X_train shape:\", X_train.shape\n",
    "print \"X_test shape:\", X_test.shape"
   ]
  },
  {
   "cell_type": "markdown",
   "metadata": {
    "collapsed": true
   },
   "source": [
    "### Apply univariate regression"
   ]
  },
  {
   "cell_type": "markdown",
   "metadata": {},
   "source": [
    "> As already done in the first exercise, apply univariate linear regression. This time, apply the linear regression analysis on the newly created training data X_train and y_train"
   ]
  },
  {
   "cell_type": "code",
   "execution_count": 6,
   "metadata": {},
   "outputs": [
    {
     "data": {
      "text/plain": [
       "SGDRegressor(alpha=0.0001, average=False, epsilon=0.1, eta0=0.01,\n",
       "       fit_intercept=True, l1_ratio=0.15, learning_rate='invscaling',\n",
       "       loss='squared_loss', max_iter=1000, n_iter=None, penalty='none',\n",
       "       power_t=0.25, random_state=None, shuffle=True, tol=None, verbose=0,\n",
       "       warm_start=False)"
      ]
     },
     "execution_count": 6,
     "metadata": {},
     "output_type": "execute_result"
    }
   ],
   "source": [
    "clf = SGDRegressor(max_iter = 1000, penalty = 'none', learning_rate = 'invscaling', eta0 = 0.01)\n",
    "clf.fit(X_train, y_train)"
   ]
  },
  {
   "cell_type": "markdown",
   "metadata": {},
   "source": [
    "### Question 2: Give the values of the coefficient and intercept"
   ]
  },
  {
   "cell_type": "code",
   "execution_count": 7,
   "metadata": {},
   "outputs": [
    {
     "name": "stdout",
     "output_type": "stream",
     "text": [
      "Intercept: [1.60209827]\n",
      "Coefficients: [0.910823]\n"
     ]
    }
   ],
   "source": [
    "b = clf.intercept_\n",
    "w = clf.coef_\n",
    "print \"Intercept:\", b\n",
    "print \"Coefficients:\", w"
   ]
  },
  {
   "cell_type": "markdown",
   "metadata": {},
   "source": [
    "### Question3: What do the regression coefficients say about the weight of the input and the relations of the input to the target variable?"
   ]
  },
  {
   "cell_type": "markdown",
   "metadata": {},
   "source": [
    "The higher this value is, the higher the weight of the input is.\n",
    "\n",
    "Used source: http://statisticsbyjim.com/regression/interpret-coefficients-p-values-regression/"
   ]
  },
  {
   "cell_type": "markdown",
   "metadata": {},
   "source": [
    "### Plot the data and draw the regression line\n",
    "\n",
    "> Use a scatter plot to plot the test data\n",
    "\n",
    "> Plot the line that gradient descent has found"
   ]
  },
  {
   "cell_type": "code",
   "execution_count": 8,
   "metadata": {},
   "outputs": [
    {
     "data": {
      "image/png": "[encoded data removed]",
      "text/plain": [
       "<Figure size 432x288 with 1 Axes>"
      ]
     },
     "metadata": {},
     "output_type": "display_data"
    }
   ],
   "source": [
    "def graph(formula, x_range):  \n",
    "    x = np.array(x_range)  \n",
    "    y = eval(formula)\n",
    "    plt.plot(x, y)  \n",
    "    plt.show()\n",
    "\n",
    "plt.scatter(X_test, y_test)\n",
    "graph('x*w + b', (0, 30))"
   ]
  },
  {
   "cell_type": "markdown",
   "metadata": {},
   "source": [
    "### Determining the mean squared error\n",
    "\n",
    "> When developing different regression models to predict a desired target variable $y$, it’s required to define a method for evaluating the models and choose the best fit. The mean squared error is a common way to determine the difference between the estimated values and the real values of a target variable. A regression’s mean squared error is the sum of squares of the computed residuals. The residual of an observed value is the difference between the observed value and the estimated function value. The sum of squares is divided by the number of observations (data points). The result is the mean value of the squared residuals. Determine the mean squared error of y_predicted and y_test, e.g. by using numpy’s mean() method."
   ]
  },
  {
   "cell_type": "code",
   "execution_count": 9,
   "metadata": {},
   "outputs": [
    {
     "name": "stdout",
     "output_type": "stream",
     "text": [
      "mse: 11.350545532059277\n"
     ]
    }
   ],
   "source": [
    "y_predicted = clf.predict(X_test)\n",
    "print \"mse:\", mean_squared_error(y_test, y_predicted)\n",
    "\n",
    "\n",
    "# used source: https://stackoverflow.com/questions/16774849/mean-squared-error-in-numpy\n",
    "# y_predicted = map(lambda x : x*w + b, X_test)\n",
    "y_predicted = w*X_test + b\n",
    "mse = ((y_predicted - y_test) ** 2).mean(axis=None)\n",
    "# axis=0: the average is performed along the row, for each column, returning an array\n",
    "# axis=1: the average is performed along the column, for each row, returning an array\n",
    "# axis=None: the average is performed element-wise along the array, returning a single value\n",
    "#print \"mse:\", np.mean((y_predicted - y_test)**2)\n",
    "#print \"mse:\", mse"
   ]
  }
 ],
 "metadata": {
  "anaconda-cloud": {},
  "kernelspec": {
   "display_name": "Python 2",
   "language": "python",
   "name": "python2"
  },
  "language_info": {
   "codemirror_mode": {
    "name": "ipython",
    "version": 2
   },
   "file_extension": ".py",
   "mimetype": "text/x-python",
   "name": "python",
   "nbconvert_exporter": "python",
   "pygments_lexer": "ipython2",
   "version": "2.7.15"
  }
 },
 "nbformat": 4,
 "nbformat_minor": 1
}
