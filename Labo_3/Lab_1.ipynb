{
 "cells": [
  {
   "cell_type": "markdown",
   "metadata": {},
   "source": [
    "# Lab: Regression\n",
    "\n",
    "> Classification predicts only nominal values for the target variable. With regression analysis the value of a continuous target variable $y$ can be predicted by means of one or more input variables $x$. The most common and most basic form of regression analysis is linear regression analysis. The goal of this lab is to become acquainted with linear regression analysis applied with Python.\n",
    "You will be using stochastic gradient descent to do linear regression. This has been discussed in the theory lecture as well as the classes on neural networks.\n",
    "\n",
    "> You will not have to code gradient descent again as in the Neural Network lab, instead you will have to use Scikit-learn for this.\n",
    " You will also have to use matplotlib.pylab for simple scatter plots, as well as matplotlib and mpl toolkits.mplot3d for three-dimensional scatter plots.\n",
    " \n",
    "## Exercise 1: Univariate Linear Regression on sample data"
   ]
  },
  {
   "cell_type": "markdown",
   "metadata": {},
   "source": [
    "### Imports"
   ]
  },
  {
   "cell_type": "code",
   "execution_count": 1,
   "metadata": {},
   "outputs": [],
   "source": [
    "import numpy as np\n",
    "import matplotlib.pylab as plt\n",
    "from sklearn.linear_model import SGDRegressor"
   ]
  },
  {
   "cell_type": "markdown",
   "metadata": {},
   "source": [
    "### Generate the data\n",
    "\n",
    "> X is the independent variable (input)\n",
    "> y is the dependent variable (output)"
   ]
  },
  {
   "cell_type": "code",
   "execution_count": 2,
   "metadata": {},
   "outputs": [],
   "source": [
    "y = np.array([ 19 , 20 , 20.5 , 21.5 , 22 , 23 , 23 , 25.5 , 24 , 25])\n",
    "X = np.arange(0,len(y)).reshape((len(y),1))"
   ]
  },
  {
   "cell_type": "markdown",
   "metadata": {},
   "source": [
    "### Apply univariate regression\n",
    "\n",
    "> Use gradient descent to fit a linear curve to the data. \n",
    "\n",
    "> The equation of a linear line is $y=x*w+b$, where $w$ are the coefficients and $b$ the intercept.\n",
    "\n",
    "> Using the data, gradient descent will find an optimal value for $w$ and $b$"
   ]
  },
  {
   "cell_type": "code",
   "execution_count": 3,
   "metadata": {},
   "outputs": [
    {
     "data": {
      "text/plain": [
       "SGDRegressor(alpha=0.0001, average=False, epsilon=0.1, eta0=0.01,\n",
       "       fit_intercept=True, l1_ratio=0.15, learning_rate='invscaling',\n",
       "       loss='squared_loss', max_iter=1000, n_iter=None, penalty=None,\n",
       "       power_t=0.25, random_state=None, shuffle=True, tol=None, verbose=0,\n",
       "       warm_start=False)"
      ]
     },
     "execution_count": 3,
     "metadata": {},
     "output_type": "execute_result"
    }
   ],
   "source": [
    "#use SGDRegressor, set the penalty parameter to 'none', experiment with 'max_iter','learning_rate' and 'eta0'\n",
    "clf = SGDRegressor(max_iter = 1000, penalty = 'none', learning_rate = 'invscaling', eta0 = 0.01)\n",
    "clf.fit(X, y)\n",
    "# For results of some trials see: Part1_results.PNG\n",
    "# Documentation used: http://scikit-learn.org/stable/modules/generated/sklearn.linear_model.SGDRegressor.html"
   ]
  },
  {
   "cell_type": "markdown",
   "metadata": {},
   "source": [
    "### Question 1: Write down the coefficients and the intercept"
   ]
  },
  {
   "cell_type": "code",
   "execution_count": 4,
   "metadata": {},
   "outputs": [
    {
     "name": "stdout",
     "output_type": "stream",
     "text": [
      "Intercept: [18.86626808]\n",
      "Coefficients: [0.74376966]\n"
     ]
    }
   ],
   "source": [
    "#clf.get_params(deep = True)\n",
    "b = clf.intercept_\n",
    "w = clf.coef_\n",
    "print \"Intercept:\", b\n",
    "print \"Coefficients:\", w"
   ]
  },
  {
   "cell_type": "markdown",
   "metadata": {},
   "source": [
    "### Question2: Have a look at the slope (w)  and intercept (b). What do these two values tell you about X and about its impact on calculating the output y?"
   ]
  },
  {
   "cell_type": "markdown",
   "metadata": {},
   "source": [
    "w:\n",
    "\n",
    "    slope = rise/run = how much does y increase if X increases\n",
    "    if (w>0) then (positive slope)\n",
    "    if (w<0) then (negative slope)\n",
    "    else (horizontal line)\n",
    "\n",
    "b:\n",
    "\n",
    "    intercept\n",
    "    when (x = 0) then (y = b)"
   ]
  },
  {
   "cell_type": "markdown",
   "metadata": {},
   "source": [
    "### Plot the data\n",
    "\n",
    "> Create a scatter plot of the data (X,y)\n",
    "\n",
    "> Plot the line you have just fitted."
   ]
  },
  {
   "cell_type": "code",
   "execution_count": 5,
   "metadata": {},
   "outputs": [
    {
     "data": {
      "image/png": "[encoded data removed]",
      "text/plain": [
       "<Figure size 432x288 with 1 Axes>"
      ]
     },
     "metadata": {},
     "output_type": "display_data"
    }
   ],
   "source": [
    "def graph(formula, x_range):  \n",
    "    x = np.array(x_range)  \n",
    "    y = eval(formula)\n",
    "    plt.plot(x, y)  \n",
    "    plt.show()\n",
    "\n",
    "plt.scatter(X, y)\n",
    "graph('x*w + b', (0, 10))"
   ]
  }
 ],
 "metadata": {
  "anaconda-cloud": {},
  "kernelspec": {
   "display_name": "Python 2",
   "language": "python",
   "name": "python2"
  },
  "language_info": {
   "codemirror_mode": {
    "name": "ipython",
    "version": 2
   },
   "file_extension": ".py",
   "mimetype": "text/x-python",
   "name": "python",
   "nbconvert_exporter": "python",
   "pygments_lexer": "ipython2",
   "version": "2.7.15"
  }
 },
 "nbformat": 4,
 "nbformat_minor": 1
}
