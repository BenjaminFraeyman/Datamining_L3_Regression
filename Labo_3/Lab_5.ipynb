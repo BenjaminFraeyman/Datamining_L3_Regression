{
 "cells": [
  {
   "cell_type": "markdown",
   "metadata": {},
   "source": [
    "# Lab: Regression\n",
    "\n",
    "## Exercise 5: Multivariate Linear Regression on real data \n",
    "\n",
    "\n",
    "> In the previous exercises you worked with datasets consist of one or two input variables. However, in the real world, we usually begin with raw data containing many more input features which may or may not be all suitable for prediction and/or classification.\n",
    "\n",
    "> In this exercise, you are provided hourly rental data spanning two years. The training set is comprised of the first 19 days of each month, while the test set is the 20th to the end of the month. You must predict the total count of bikes rented during each hour covered by the test set, using only information available prior to the rental period.\n",
    "\n",
    "Data Fields\n",
    "\n",
    "* datetime - hourly date + timestamp  \n",
    "* season -  1 = spring, 2 = summer, 3 = fall, 4 = winter \n",
    "* holiday - whether the day is considered a holiday\n",
    "* workingday - whether the day is neither a weekend nor holiday\n",
    "* weather:\n",
    "    - 1: Clear, Few clouds, Partly cloudy, Partly cloudy\n",
    "    - 2: Mist + Cloudy, Mist + Broken clouds, Mist + Few clouds, Mist\n",
    "    - 3: Light Snow, Light Rain + Thunderstorm + Scattered clouds, Light Rain + Scattered clouds\n",
    "    - 4: Heavy Rain + Ice Pallets + Thunderstorm + Mist, Snow + Fog \n",
    "* temp - temperature in Celsius\n",
    "* atemp - \"feels like\" temperature in Celsius\n",
    "* humidity - relative humidity\n",
    "* windspeed - wind speed\n",
    "* casual - number of non-registered user rentals initiated\n",
    "* registered - number of registered user rentals initiated\n",
    "* count - number of total rentals\n",
    "\n",
    "#### Ask your questions by e-mail to: Azarakhsh.Jalalvand@UGent.be\n"
   ]
  },
  {
   "cell_type": "code",
   "execution_count": 20,
   "metadata": {},
   "outputs": [],
   "source": [
    "import numpy as np\n",
    "import pandas\n",
    "from sklearn.linear_model import SGDRegressor\n",
    "from sklearn.model_selection import  train_test_split\n",
    "import matplotlib.pylab as plt\n",
    "from datetime import datetime\n",
    "from sklearn.metrics import mean_squared_error"
   ]
  },
  {
   "cell_type": "markdown",
   "metadata": {},
   "source": [
    "# 1. Data Preparation\n",
    "\n",
    "## 1a. Let's first read and explore our data which is in CSV format. \n",
    "http://pandas.pydata.org/pandas-docs/stable/generated/pandas.read_csv.html\n",
    "\n",
    "### Read the training dataset (Bike_train.csv) as a variable named \"dataset\""
   ]
  },
  {
   "cell_type": "code",
   "execution_count": 2,
   "metadata": {
    "scrolled": true
   },
   "outputs": [],
   "source": [
    "dataset = pandas.read_csv('./Bike_train.csv', sep=\",\")"
   ]
  },
  {
   "cell_type": "markdown",
   "metadata": {},
   "source": [
    "### Question 1: How many records and features are in this CSV?\n",
    "* Check out the first 10 rows of the data"
   ]
  },
  {
   "cell_type": "code",
   "execution_count": 3,
   "metadata": {},
   "outputs": [
    {
     "name": "stdout",
     "output_type": "stream",
     "text": [
      "#: 10886\n"
     ]
    },
    {
     "data": {
      "text/html": [
       "<div>\n",
       "<style scoped>\n",
       "    .dataframe tbody tr th:only-of-type {\n",
       "        vertical-align: middle;\n",
       "    }\n",
       "\n",
       "    .dataframe tbody tr th {\n",
       "        vertical-align: top;\n",
       "    }\n",
       "\n",
       "    .dataframe thead th {\n",
       "        text-align: right;\n",
       "    }\n",
       "</style>\n",
       "<table border=\"1\" class=\"dataframe\">\n",
       "  <thead>\n",
       "    <tr style=\"text-align: right;\">\n",
       "      <th></th>\n",
       "      <th>datetime</th>\n",
       "      <th>season</th>\n",
       "      <th>holiday</th>\n",
       "      <th>workingday</th>\n",
       "      <th>weather</th>\n",
       "      <th>temp</th>\n",
       "      <th>atemp</th>\n",
       "      <th>humidity</th>\n",
       "      <th>windspeed</th>\n",
       "      <th>casual</th>\n",
       "      <th>registered</th>\n",
       "      <th>count</th>\n",
       "    </tr>\n",
       "  </thead>\n",
       "  <tbody>\n",
       "    <tr>\n",
       "      <th>0</th>\n",
       "      <td>2011-01-01 00:00:00</td>\n",
       "      <td>1</td>\n",
       "      <td>0</td>\n",
       "      <td>0</td>\n",
       "      <td>1</td>\n",
       "      <td>9.84</td>\n",
       "      <td>14.395</td>\n",
       "      <td>81</td>\n",
       "      <td>0.0000</td>\n",
       "      <td>3</td>\n",
       "      <td>13</td>\n",
       "      <td>16</td>\n",
       "    </tr>\n",
       "    <tr>\n",
       "      <th>1</th>\n",
       "      <td>2011-01-01 01:00:00</td>\n",
       "      <td>1</td>\n",
       "      <td>0</td>\n",
       "      <td>0</td>\n",
       "      <td>1</td>\n",
       "      <td>9.02</td>\n",
       "      <td>13.635</td>\n",
       "      <td>80</td>\n",
       "      <td>0.0000</td>\n",
       "      <td>8</td>\n",
       "      <td>32</td>\n",
       "      <td>40</td>\n",
       "    </tr>\n",
       "    <tr>\n",
       "      <th>2</th>\n",
       "      <td>2011-01-01 02:00:00</td>\n",
       "      <td>1</td>\n",
       "      <td>0</td>\n",
       "      <td>0</td>\n",
       "      <td>1</td>\n",
       "      <td>9.02</td>\n",
       "      <td>13.635</td>\n",
       "      <td>80</td>\n",
       "      <td>0.0000</td>\n",
       "      <td>5</td>\n",
       "      <td>27</td>\n",
       "      <td>32</td>\n",
       "    </tr>\n",
       "    <tr>\n",
       "      <th>3</th>\n",
       "      <td>2011-01-01 03:00:00</td>\n",
       "      <td>1</td>\n",
       "      <td>0</td>\n",
       "      <td>0</td>\n",
       "      <td>1</td>\n",
       "      <td>9.84</td>\n",
       "      <td>14.395</td>\n",
       "      <td>75</td>\n",
       "      <td>0.0000</td>\n",
       "      <td>3</td>\n",
       "      <td>10</td>\n",
       "      <td>13</td>\n",
       "    </tr>\n",
       "    <tr>\n",
       "      <th>4</th>\n",
       "      <td>2011-01-01 04:00:00</td>\n",
       "      <td>1</td>\n",
       "      <td>0</td>\n",
       "      <td>0</td>\n",
       "      <td>1</td>\n",
       "      <td>9.84</td>\n",
       "      <td>14.395</td>\n",
       "      <td>75</td>\n",
       "      <td>0.0000</td>\n",
       "      <td>0</td>\n",
       "      <td>1</td>\n",
       "      <td>1</td>\n",
       "    </tr>\n",
       "    <tr>\n",
       "      <th>5</th>\n",
       "      <td>2011-01-01 05:00:00</td>\n",
       "      <td>1</td>\n",
       "      <td>0</td>\n",
       "      <td>0</td>\n",
       "      <td>2</td>\n",
       "      <td>9.84</td>\n",
       "      <td>12.880</td>\n",
       "      <td>75</td>\n",
       "      <td>6.0032</td>\n",
       "      <td>0</td>\n",
       "      <td>1</td>\n",
       "      <td>1</td>\n",
       "    </tr>\n",
       "    <tr>\n",
       "      <th>6</th>\n",
       "      <td>2011-01-01 06:00:00</td>\n",
       "      <td>1</td>\n",
       "      <td>0</td>\n",
       "      <td>0</td>\n",
       "      <td>1</td>\n",
       "      <td>9.02</td>\n",
       "      <td>13.635</td>\n",
       "      <td>80</td>\n",
       "      <td>0.0000</td>\n",
       "      <td>2</td>\n",
       "      <td>0</td>\n",
       "      <td>2</td>\n",
       "    </tr>\n",
       "    <tr>\n",
       "      <th>7</th>\n",
       "      <td>2011-01-01 07:00:00</td>\n",
       "      <td>1</td>\n",
       "      <td>0</td>\n",
       "      <td>0</td>\n",
       "      <td>1</td>\n",
       "      <td>8.20</td>\n",
       "      <td>12.880</td>\n",
       "      <td>86</td>\n",
       "      <td>0.0000</td>\n",
       "      <td>1</td>\n",
       "      <td>2</td>\n",
       "      <td>3</td>\n",
       "    </tr>\n",
       "    <tr>\n",
       "      <th>8</th>\n",
       "      <td>2011-01-01 08:00:00</td>\n",
       "      <td>1</td>\n",
       "      <td>0</td>\n",
       "      <td>0</td>\n",
       "      <td>1</td>\n",
       "      <td>9.84</td>\n",
       "      <td>14.395</td>\n",
       "      <td>75</td>\n",
       "      <td>0.0000</td>\n",
       "      <td>1</td>\n",
       "      <td>7</td>\n",
       "      <td>8</td>\n",
       "    </tr>\n",
       "    <tr>\n",
       "      <th>9</th>\n",
       "      <td>2011-01-01 09:00:00</td>\n",
       "      <td>1</td>\n",
       "      <td>0</td>\n",
       "      <td>0</td>\n",
       "      <td>1</td>\n",
       "      <td>13.12</td>\n",
       "      <td>17.425</td>\n",
       "      <td>76</td>\n",
       "      <td>0.0000</td>\n",
       "      <td>8</td>\n",
       "      <td>6</td>\n",
       "      <td>14</td>\n",
       "    </tr>\n",
       "  </tbody>\n",
       "</table>\n",
       "</div>"
      ],
      "text/plain": [
       "              datetime  season  holiday  workingday  weather   temp   atemp  \\\n",
       "0  2011-01-01 00:00:00       1        0           0        1   9.84  14.395   \n",
       "1  2011-01-01 01:00:00       1        0           0        1   9.02  13.635   \n",
       "2  2011-01-01 02:00:00       1        0           0        1   9.02  13.635   \n",
       "3  2011-01-01 03:00:00       1        0           0        1   9.84  14.395   \n",
       "4  2011-01-01 04:00:00       1        0           0        1   9.84  14.395   \n",
       "5  2011-01-01 05:00:00       1        0           0        2   9.84  12.880   \n",
       "6  2011-01-01 06:00:00       1        0           0        1   9.02  13.635   \n",
       "7  2011-01-01 07:00:00       1        0           0        1   8.20  12.880   \n",
       "8  2011-01-01 08:00:00       1        0           0        1   9.84  14.395   \n",
       "9  2011-01-01 09:00:00       1        0           0        1  13.12  17.425   \n",
       "\n",
       "   humidity  windspeed  casual  registered  count  \n",
       "0        81     0.0000       3          13     16  \n",
       "1        80     0.0000       8          32     40  \n",
       "2        80     0.0000       5          27     32  \n",
       "3        75     0.0000       3          10     13  \n",
       "4        75     0.0000       0           1      1  \n",
       "5        75     6.0032       0           1      1  \n",
       "6        80     0.0000       2           0      2  \n",
       "7        86     0.0000       1           2      3  \n",
       "8        75     0.0000       1           7      8  \n",
       "9        76     0.0000       8           6     14  "
      ]
     },
     "execution_count": 3,
     "metadata": {},
     "output_type": "execute_result"
    }
   ],
   "source": [
    "print \"#:\", dataset.shape[0]\n",
    "dataset.head(10)"
   ]
  },
  {
   "cell_type": "markdown",
   "metadata": {},
   "source": [
    "### Question 2: What is the range of the datetime column (earliest and latest date)"
   ]
  },
  {
   "cell_type": "code",
   "execution_count": 4,
   "metadata": {},
   "outputs": [
    {
     "name": "stdout",
     "output_type": "stream",
     "text": [
      "Earliest date: 2011-01-01 00:00:00\n",
      "Latest date: 2012-12-19 23:00:00\n"
     ]
    }
   ],
   "source": [
    "dates = dataset['datetime'].apply(lambda x : datetime.strptime(x, \"%Y-%m-%d %H:00:00\"))\n",
    "print \"Earliest date:\", dates.min()\n",
    "print \"Latest date:\", dates.max()"
   ]
  },
  {
   "cell_type": "markdown",
   "metadata": {},
   "source": [
    "### Question 3: Is there any NULL values in the data?"
   ]
  },
  {
   "cell_type": "code",
   "execution_count": 5,
   "metadata": {},
   "outputs": [
    {
     "data": {
      "text/plain": [
       "False"
      ]
     },
     "execution_count": 5,
     "metadata": {},
     "output_type": "execute_result"
    }
   ],
   "source": [
    "# hint: check the outputs of dataset.count() and dataset.columns.\n",
    "dataset.isnull().values.any()"
   ]
  },
  {
   "cell_type": "markdown",
   "metadata": {},
   "source": [
    "### 1b. Characteristics of the data columns\n",
    "\n",
    "* Make a summary of the dataset: min, max, mean,... per column\n",
    "* Make a plot of the distribution of the values in the different columns, the Y-axis should be logarithmic"
   ]
  },
  {
   "cell_type": "code",
   "execution_count": 6,
   "metadata": {
    "scrolled": false
   },
   "outputs": [
    {
     "name": "stdout",
     "output_type": "stream",
     "text": [
      "             season       holiday    workingday       weather         temp  \\\n",
      "count  10886.000000  10886.000000  10886.000000  10886.000000  10886.00000   \n",
      "mean       2.506614      0.028569      0.680875      1.418427     20.23086   \n",
      "std        1.116174      0.166599      0.466159      0.633839      7.79159   \n",
      "min        1.000000      0.000000      0.000000      1.000000      0.82000   \n",
      "25%        2.000000      0.000000      0.000000      1.000000     13.94000   \n",
      "50%        3.000000      0.000000      1.000000      1.000000     20.50000   \n",
      "75%        4.000000      0.000000      1.000000      2.000000     26.24000   \n",
      "max        4.000000      1.000000      1.000000      4.000000     41.00000   \n",
      "\n",
      "              atemp      humidity     windspeed        casual    registered  \\\n",
      "count  10886.000000  10886.000000  10886.000000  10886.000000  10886.000000   \n",
      "mean      23.655084     61.886460     12.799395     36.021955    155.552177   \n",
      "std        8.474601     19.245033      8.164537     49.960477    151.039033   \n",
      "min        0.760000      0.000000      0.000000      0.000000      0.000000   \n",
      "25%       16.665000     47.000000      7.001500      4.000000     36.000000   \n",
      "50%       24.240000     62.000000     12.998000     17.000000    118.000000   \n",
      "75%       31.060000     77.000000     16.997900     49.000000    222.000000   \n",
      "max       45.455000    100.000000     56.996900    367.000000    886.000000   \n",
      "\n",
      "              count  \n",
      "count  10886.000000  \n",
      "mean     191.574132  \n",
      "std      181.144454  \n",
      "min        1.000000  \n",
      "25%       42.000000  \n",
      "50%      145.000000  \n",
      "75%      284.000000  \n",
      "max      977.000000  \n"
     ]
    },
    {
     "data": {
      "image/png": "[encoded data removed]",
      "text/plain": [
       "<Figure size 720x720 with 1 Axes>"
      ]
     },
     "metadata": {},
     "output_type": "display_data"
    }
   ],
   "source": [
    "print(dataset.describe())\n",
    "dataset.plot.box(logy = True, figsize=(10,10))\n",
    "plt.show()\n",
    "\n",
    "#dataset.describe().drop('count').transpose().plot.bar(logy = True)\n",
    "#dataset.describe().transpose().plot.bar(stacked = True, logy = True)\n",
    "#dataset['season'].describe()\n",
    "#dataset_X = dataset.drop('count')\n",
    "#for column in dataset:\n",
    "#    plt.scatter(dataset[column], dataset['count'])\n",
    "#plt.show()"
   ]
  },
  {
   "cell_type": "markdown",
   "metadata": {},
   "source": [
    "* Identify the data types, what columns are categorical, ordinal and numeric? (checking for unique values)"
   ]
  },
  {
   "cell_type": "code",
   "execution_count": 7,
   "metadata": {},
   "outputs": [
    {
     "name": "stdout",
     "output_type": "stream",
     "text": [
      "datetime : 10886\n",
      "season : 4\n",
      "holiday : 2\n",
      "workingday : 2\n",
      "weather : 4\n",
      "temp : 49\n",
      "atemp : 60\n",
      "humidity : 89\n",
      "windspeed : 28\n",
      "casual : 309\n",
      "registered : 731\n",
      "count : 822\n"
     ]
    }
   ],
   "source": [
    "# hint: check out the unique values of each column. The categorical and/or ordinal variables have very few unique values.\n",
    "# dataset['count'].value_counts()\n",
    "for column in dataset:\n",
    "    print column, \":\", len(dataset[column].unique())\n",
    "    # print column, \":\", dataset[column].unique()"
   ]
  },
  {
   "cell_type": "markdown",
   "metadata": {},
   "source": [
    "A categorical variable (sometimes called a nominal variable) is one that has two or more categories, but there is no intrinsic ordering to the categories.\n",
    "\n",
    "An ordinal variable is similar to a categorical variable.  The difference between the two is that there is a clear ordering of the variables.\n",
    "\n",
    "An interval variable is similar to an ordinal variable, except that the intervals between the values of the interval variable are equally spaced.\n",
    "\n",
    "Source: https://stats.idre.ucla.edu/other/mult-pkg/whatstat/what-is-the-difference-between-categorical-ordinal-and-interval-variables/"
   ]
  },
  {
   "cell_type": "markdown",
   "metadata": {},
   "source": [
    "C: holiday, weather, workingday\n",
    "\n",
    "O: season\n",
    "\n",
    "I: datetime, cout, registered, casual, windspeed, humidity, temp"
   ]
  },
  {
   "cell_type": "markdown",
   "metadata": {},
   "source": [
    "# 2. Apply multivariate linear regression and do the forecast\n",
    "\n",
    "* There are three variables to predict namely, \"casual\", \"registered\" and \"count\". The other variables can be used as the input features for the regression.\n",
    "\n",
    "## Split the data into training and validation data by applying cross-validation\n",
    "## 2b. Try different combinations of input variables to predict the number of rentals.\n",
    "> Answer: When adding certain variables, some give a lower RMSE and others a higher one.\n",
    "### Evaluate the model by calculating the root mean squared error on the training and validation data\n",
    "### Question 4: Which combinations of input features do lead to better results?\n",
    "> Answer: Removing \"temp\" gives better results\n",
    "### Question 5: Are all the input features necessary for a good prediction?\n",
    "> Answer: No, workingday or weather is not needed, RMSE doesn't change"
   ]
  },
  {
   "cell_type": "code",
   "execution_count": 8,
   "metadata": {},
   "outputs": [
    {
     "name": "stdout",
     "output_type": "stream",
     "text": [
      "Intercept: [39.80818722]\n",
      "Coefficients: [ 10.70611918  20.59911111 -12.37803962   3.31175404  -2.99009275\n",
      "   2.28447447   2.97141339   0.72338673   0.16606966]\n"
     ]
    }
   ],
   "source": [
    "# define a SGDRegressor\n",
    "clf = SGDRegressor(max_iter = 1000, penalty = 'none', learning_rate = 'invscaling', eta0 = 0.01)\n",
    "\n",
    "# determine which columns are going to be used as inputs and which column to predict\n",
    "X = dataset.drop(['casual', 'registered', 'count'], axis = 1)\n",
    "y = dataset[['count']].values.ravel()\n",
    "#print y\n",
    "#print dataset[['count']]\n",
    "\n",
    "X['datetime'] = X['datetime'].apply(lambda x : datetime.strptime(x, \"%Y-%m-%d %H:00:00\").hour).values\n",
    "\n",
    "# split the data into training and validation\n",
    "X_train, X_test, y_train, y_test = train_test_split(X, y, train_size= 0.80, random_state=0)\n",
    "\n",
    "# train the regressor on training data\n",
    "clf.fit(X_train, y_train)\n",
    "\n",
    "# print the coefficients and intercept\n",
    "w = clf.coef_\n",
    "b = clf.intercept_\n",
    "print \"Intercept:\", b\n",
    "print \"Coefficients:\", w"
   ]
  },
  {
   "cell_type": "code",
   "execution_count": 9,
   "metadata": {},
   "outputs": [
    {
     "name": "stdout",
     "output_type": "stream",
     "text": [
      "RMSE: 243.67898930048008\n",
      "RMSE2: 243.67898930048008\n"
     ]
    }
   ],
   "source": [
    "# print RMSE for the prediction of both training and validation sets\n",
    "y_predict = clf.predict(X_test)\n",
    "rmse = np.sqrt(np.mean((y_predict - y_test)**2))\n",
    "rmse2 = np.sqrt(mean_squared_error(y_predict, y_test))\n",
    "print \"RMSE:\", rmse\n",
    "print \"RMSE2:\", rmse2"
   ]
  },
  {
   "cell_type": "code",
   "execution_count": 10,
   "metadata": {},
   "outputs": [],
   "source": [
    "# example of different input\n",
    "# clf = SGDRegressor(max_iter = 1000, penalty = 'none', learning_rate = 'invscaling', eta0 = 0.01)\n",
    "# X = dataset.drop(['casual', 'registered', 'count', 'datetime'], axis = 1)\n",
    "# y = dataset[['count']].values.ravel()\n",
    "# X['hour'] = pandas.to_datetime(dataset['datetime']).dt.hour #hour\n",
    "# X_train, X_test, y_train, y_test = train_test_split(X, y, train_size= 0.80, random_state=0)\n",
    "# clf.fit(X_train, y_train)\n",
    "# w = clf.coef_\n",
    "# b = clf.intercept_\n",
    "# print \"Intercept:\", b\n",
    "# print \"Coefficients:\", w\n",
    "# y_predict = clf.predict(X_test)\n",
    "# rmse = np.sqrt(np.mean((y_predict - y_test)**2))\n",
    "# rmse2 = np.sqrt(mean_squared_error(y_predict, y_test))\n",
    "# print \"RMSE:\", rmse\n",
    "# print \"RMSE2:\", rmse2"
   ]
  },
  {
   "cell_type": "markdown",
   "metadata": {},
   "source": [
    "## 2c. correlations between the features \n",
    "\n",
    "* What is the correlation between the different features\n",
    "* Assume that Y is the variable we want to predict, what feature has the highest (abs) correlation? (exclude casual and registered)\n",
    "* Plot the correlation matrix (use matshow or pcolor functions)\n",
    "* Some features are highly correlated, which implies a linear dependency. Including dependent features into the same linear model is to be avoided\n",
    "### Question 6: which features would you exclude based on the correlation values?\n",
    "* A correlation matrix will mainly reveal linear relationships, use a scatterplot matrix to study the relations between the different weather parameters "
   ]
  },
  {
   "cell_type": "code",
   "execution_count": 11,
   "metadata": {
    "scrolled": false
   },
   "outputs": [
    {
     "name": "stdout",
     "output_type": "stream",
     "text": [
      "Correlationmatrix:\n",
      "            datetime    season   holiday  workingday   weather      temp  \\\n",
      "datetime    1.000000 -0.006546 -0.000354    0.002780 -0.022740  0.145430   \n",
      "season     -0.006546  1.000000  0.029368   -0.008126  0.008879  0.258689   \n",
      "holiday    -0.000354  0.029368  1.000000   -0.250491 -0.007074  0.000295   \n",
      "workingday  0.002780 -0.008126 -0.250491    1.000000  0.033772  0.029966   \n",
      "weather    -0.022740  0.008879 -0.007074    0.033772  1.000000 -0.055035   \n",
      "temp        0.145430  0.258689  0.000295    0.029966 -0.055035  1.000000   \n",
      "atemp       0.140343  0.264744 -0.005215    0.024660 -0.055376  0.984948   \n",
      "humidity   -0.278011  0.190610  0.001929   -0.010880  0.406244 -0.064949   \n",
      "windspeed   0.146631 -0.147121  0.008409    0.013373  0.007261 -0.017852   \n",
      "\n",
      "               atemp  humidity  windspeed  \n",
      "datetime    0.140343 -0.278011   0.146631  \n",
      "season      0.264744  0.190610  -0.147121  \n",
      "holiday    -0.005215  0.001929   0.008409  \n",
      "workingday  0.024660 -0.010880   0.013373  \n",
      "weather    -0.055376  0.406244   0.007261  \n",
      "temp        0.984948 -0.064949  -0.017852  \n",
      "atemp       1.000000 -0.043536  -0.057473  \n",
      "humidity   -0.043536  1.000000  -0.318607  \n",
      "windspeed  -0.057473 -0.318607   1.000000  \n"
     ]
    },
    {
     "data": {
      "image/png": "[encoded data removed]",
      "text/plain": [
       "<Figure size 1080x1080 with 9 Axes>"
      ]
     },
     "metadata": {},
     "output_type": "display_data"
    },
    {
     "data": {
      "image/png": "[encoded data removed]",
      "text/plain": [
       "<Figure size 1080x1080 with 81 Axes>"
      ]
     },
     "metadata": {},
     "output_type": "display_data"
    }
   ],
   "source": [
    "print \"Correlationmatrix:\"\n",
    "print X.corr()\n",
    "# windspeed = low\n",
    "# season = high\n",
    "\n",
    "X.corr().plot(subplots = True, figsize=(15,15))\n",
    "pandas.plotting.scatter_matrix(X.corr(), figsize=(15,15))\n",
    "plt.show()"
   ]
  },
  {
   "cell_type": "markdown",
   "metadata": {},
   "source": [
    "# 3. Feature engineering to train a multivariate linear regression model\n",
    "\n",
    "### 3a. Using categorical data in a linear model using one-hot encoding\n",
    "\n",
    "If we would turn categorical values into numbers we are making an important mistake. The new represention imposes a certain ordering which the original representation does not! An approach to deal with this is called <b>one-hot encoding</b>. This technique uses binary features for each possible value of the feature. Assume that our categorical variable contains hobbies and we have 4 possible hobbies => we have 4 features, all zero except one for each different hobby: hobby1 -> 1000, hobby2 -> 0100,...\n",
    "\n",
    "* Pandas has a convenient function 'get_dummies' in which you can automatically rework a categorical column, use it to transform the season column and rename the columns to the corresponding season\n",
    "\n",
    "* use boolean filters to check if the mapping is done appropriately\n",
    "\n",
    "* Create two dataframes dfX and dfY containing the input variables and the response variables seperately, the datetime column can be left out for dfX\n"
   ]
  },
  {
   "cell_type": "code",
   "execution_count": 12,
   "metadata": {
    "scrolled": false
   },
   "outputs": [
    {
     "data": {
      "text/html": [
       "<div>\n",
       "<style scoped>\n",
       "    .dataframe tbody tr th:only-of-type {\n",
       "        vertical-align: middle;\n",
       "    }\n",
       "\n",
       "    .dataframe tbody tr th {\n",
       "        vertical-align: top;\n",
       "    }\n",
       "\n",
       "    .dataframe thead th {\n",
       "        text-align: right;\n",
       "    }\n",
       "</style>\n",
       "<table border=\"1\" class=\"dataframe\">\n",
       "  <thead>\n",
       "    <tr style=\"text-align: right;\">\n",
       "      <th></th>\n",
       "      <th>holiday</th>\n",
       "      <th>workingday</th>\n",
       "      <th>weather</th>\n",
       "      <th>temp</th>\n",
       "      <th>atemp</th>\n",
       "      <th>humidity</th>\n",
       "      <th>windspeed</th>\n",
       "      <th>winter</th>\n",
       "      <th>spring</th>\n",
       "      <th>summer</th>\n",
       "      <th>autumn</th>\n",
       "      <th>hour</th>\n",
       "    </tr>\n",
       "  </thead>\n",
       "  <tbody>\n",
       "    <tr>\n",
       "      <th>0</th>\n",
       "      <td>0</td>\n",
       "      <td>0</td>\n",
       "      <td>1</td>\n",
       "      <td>9.84</td>\n",
       "      <td>14.395</td>\n",
       "      <td>81</td>\n",
       "      <td>0.0</td>\n",
       "      <td>1</td>\n",
       "      <td>0</td>\n",
       "      <td>0</td>\n",
       "      <td>0</td>\n",
       "      <td>0</td>\n",
       "    </tr>\n",
       "    <tr>\n",
       "      <th>1</th>\n",
       "      <td>0</td>\n",
       "      <td>0</td>\n",
       "      <td>1</td>\n",
       "      <td>9.02</td>\n",
       "      <td>13.635</td>\n",
       "      <td>80</td>\n",
       "      <td>0.0</td>\n",
       "      <td>1</td>\n",
       "      <td>0</td>\n",
       "      <td>0</td>\n",
       "      <td>0</td>\n",
       "      <td>1</td>\n",
       "    </tr>\n",
       "    <tr>\n",
       "      <th>2</th>\n",
       "      <td>0</td>\n",
       "      <td>0</td>\n",
       "      <td>1</td>\n",
       "      <td>9.02</td>\n",
       "      <td>13.635</td>\n",
       "      <td>80</td>\n",
       "      <td>0.0</td>\n",
       "      <td>1</td>\n",
       "      <td>0</td>\n",
       "      <td>0</td>\n",
       "      <td>0</td>\n",
       "      <td>2</td>\n",
       "    </tr>\n",
       "    <tr>\n",
       "      <th>3</th>\n",
       "      <td>0</td>\n",
       "      <td>0</td>\n",
       "      <td>1</td>\n",
       "      <td>9.84</td>\n",
       "      <td>14.395</td>\n",
       "      <td>75</td>\n",
       "      <td>0.0</td>\n",
       "      <td>1</td>\n",
       "      <td>0</td>\n",
       "      <td>0</td>\n",
       "      <td>0</td>\n",
       "      <td>3</td>\n",
       "    </tr>\n",
       "    <tr>\n",
       "      <th>4</th>\n",
       "      <td>0</td>\n",
       "      <td>0</td>\n",
       "      <td>1</td>\n",
       "      <td>9.84</td>\n",
       "      <td>14.395</td>\n",
       "      <td>75</td>\n",
       "      <td>0.0</td>\n",
       "      <td>1</td>\n",
       "      <td>0</td>\n",
       "      <td>0</td>\n",
       "      <td>0</td>\n",
       "      <td>4</td>\n",
       "    </tr>\n",
       "  </tbody>\n",
       "</table>\n",
       "</div>"
      ],
      "text/plain": [
       "   holiday  workingday  weather  temp   atemp  humidity  windspeed  winter  \\\n",
       "0        0           0        1  9.84  14.395        81        0.0       1   \n",
       "1        0           0        1  9.02  13.635        80        0.0       1   \n",
       "2        0           0        1  9.02  13.635        80        0.0       1   \n",
       "3        0           0        1  9.84  14.395        75        0.0       1   \n",
       "4        0           0        1  9.84  14.395        75        0.0       1   \n",
       "\n",
       "   spring  summer  autumn  hour  \n",
       "0       0       0       0     0  \n",
       "1       0       0       0     1  \n",
       "2       0       0       0     2  \n",
       "3       0       0       0     3  \n",
       "4       0       0       0     4  "
      ]
     },
     "execution_count": 12,
     "metadata": {},
     "output_type": "execute_result"
    }
   ],
   "source": [
    "# use pd.get_dummies to transform the season column and rename the new columns(see example below)\n",
    "dataset_cat = pandas.get_dummies(dataset, columns=[\"season\"])\n",
    "dataset_ren = dataset_cat.rename(columns = {'season_1':'winter', 'season_2':'spring', 'season_3':'summer', 'season_4':'autumn',})\n",
    "\n",
    "# Create two dataframes dfX and dfY as described above\n",
    "dfX = dataset_ren.drop(['casual', 'registered', 'count', 'datetime'], axis = 1)\n",
    "dfX['hour'] = pandas.to_datetime(dataset['datetime']).dt.hour\n",
    "dfY = dataset_ren[['count']].values.ravel()\n",
    "dfX.head(5)"
   ]
  },
  {
   "cell_type": "markdown",
   "metadata": {},
   "source": [
    "### 3b. Feature scaling\n",
    "\n",
    "* Read: https://en.wikipedia.org/wiki/Feature_scaling\n",
    "* Summarized: bring all features on the same scale: \n",
    "    - otherwise some machine learning classifier based on euclidean distances will not work properly (the distance will be dominated by the feature with the most extreme values) \n",
    "    - otherwise the convergence of gradient descent algorithms (used for minimizing the cost function J) will take much longer to converge.\n",
    "\n",
    "* Map every numerical input feature to a range [0,1] with the following formula: \n",
    "\n",
    "    ### $x' = \\frac{x - x_{min}}{ x_{max}-x_{min}}$\n",
    "\n"
   ]
  },
  {
   "cell_type": "code",
   "execution_count": 13,
   "metadata": {},
   "outputs": [
    {
     "data": {
      "text/html": [
       "<div>\n",
       "<style scoped>\n",
       "    .dataframe tbody tr th:only-of-type {\n",
       "        vertical-align: middle;\n",
       "    }\n",
       "\n",
       "    .dataframe tbody tr th {\n",
       "        vertical-align: top;\n",
       "    }\n",
       "\n",
       "    .dataframe thead th {\n",
       "        text-align: right;\n",
       "    }\n",
       "</style>\n",
       "<table border=\"1\" class=\"dataframe\">\n",
       "  <thead>\n",
       "    <tr style=\"text-align: right;\">\n",
       "      <th></th>\n",
       "      <th>holiday</th>\n",
       "      <th>workingday</th>\n",
       "      <th>weather</th>\n",
       "      <th>temp</th>\n",
       "      <th>atemp</th>\n",
       "      <th>humidity</th>\n",
       "      <th>windspeed</th>\n",
       "      <th>winter</th>\n",
       "      <th>spring</th>\n",
       "      <th>summer</th>\n",
       "      <th>autumn</th>\n",
       "      <th>hour</th>\n",
       "    </tr>\n",
       "  </thead>\n",
       "  <tbody>\n",
       "    <tr>\n",
       "      <th>0</th>\n",
       "      <td>0</td>\n",
       "      <td>0</td>\n",
       "      <td>0.000000</td>\n",
       "      <td>0.224490</td>\n",
       "      <td>0.305068</td>\n",
       "      <td>0.81</td>\n",
       "      <td>0.000000</td>\n",
       "      <td>1</td>\n",
       "      <td>0</td>\n",
       "      <td>0</td>\n",
       "      <td>0</td>\n",
       "      <td>0.000000</td>\n",
       "    </tr>\n",
       "    <tr>\n",
       "      <th>1</th>\n",
       "      <td>0</td>\n",
       "      <td>0</td>\n",
       "      <td>0.000000</td>\n",
       "      <td>0.204082</td>\n",
       "      <td>0.288064</td>\n",
       "      <td>0.80</td>\n",
       "      <td>0.000000</td>\n",
       "      <td>1</td>\n",
       "      <td>0</td>\n",
       "      <td>0</td>\n",
       "      <td>0</td>\n",
       "      <td>0.043478</td>\n",
       "    </tr>\n",
       "    <tr>\n",
       "      <th>2</th>\n",
       "      <td>0</td>\n",
       "      <td>0</td>\n",
       "      <td>0.000000</td>\n",
       "      <td>0.204082</td>\n",
       "      <td>0.288064</td>\n",
       "      <td>0.80</td>\n",
       "      <td>0.000000</td>\n",
       "      <td>1</td>\n",
       "      <td>0</td>\n",
       "      <td>0</td>\n",
       "      <td>0</td>\n",
       "      <td>0.086957</td>\n",
       "    </tr>\n",
       "    <tr>\n",
       "      <th>3</th>\n",
       "      <td>0</td>\n",
       "      <td>0</td>\n",
       "      <td>0.000000</td>\n",
       "      <td>0.224490</td>\n",
       "      <td>0.305068</td>\n",
       "      <td>0.75</td>\n",
       "      <td>0.000000</td>\n",
       "      <td>1</td>\n",
       "      <td>0</td>\n",
       "      <td>0</td>\n",
       "      <td>0</td>\n",
       "      <td>0.130435</td>\n",
       "    </tr>\n",
       "    <tr>\n",
       "      <th>4</th>\n",
       "      <td>0</td>\n",
       "      <td>0</td>\n",
       "      <td>0.000000</td>\n",
       "      <td>0.224490</td>\n",
       "      <td>0.305068</td>\n",
       "      <td>0.75</td>\n",
       "      <td>0.000000</td>\n",
       "      <td>1</td>\n",
       "      <td>0</td>\n",
       "      <td>0</td>\n",
       "      <td>0</td>\n",
       "      <td>0.173913</td>\n",
       "    </tr>\n",
       "    <tr>\n",
       "      <th>5</th>\n",
       "      <td>0</td>\n",
       "      <td>0</td>\n",
       "      <td>0.333333</td>\n",
       "      <td>0.224490</td>\n",
       "      <td>0.271171</td>\n",
       "      <td>0.75</td>\n",
       "      <td>0.105325</td>\n",
       "      <td>1</td>\n",
       "      <td>0</td>\n",
       "      <td>0</td>\n",
       "      <td>0</td>\n",
       "      <td>0.217391</td>\n",
       "    </tr>\n",
       "    <tr>\n",
       "      <th>6</th>\n",
       "      <td>0</td>\n",
       "      <td>0</td>\n",
       "      <td>0.000000</td>\n",
       "      <td>0.204082</td>\n",
       "      <td>0.288064</td>\n",
       "      <td>0.80</td>\n",
       "      <td>0.000000</td>\n",
       "      <td>1</td>\n",
       "      <td>0</td>\n",
       "      <td>0</td>\n",
       "      <td>0</td>\n",
       "      <td>0.260870</td>\n",
       "    </tr>\n",
       "    <tr>\n",
       "      <th>7</th>\n",
       "      <td>0</td>\n",
       "      <td>0</td>\n",
       "      <td>0.000000</td>\n",
       "      <td>0.183673</td>\n",
       "      <td>0.271171</td>\n",
       "      <td>0.86</td>\n",
       "      <td>0.000000</td>\n",
       "      <td>1</td>\n",
       "      <td>0</td>\n",
       "      <td>0</td>\n",
       "      <td>0</td>\n",
       "      <td>0.304348</td>\n",
       "    </tr>\n",
       "    <tr>\n",
       "      <th>8</th>\n",
       "      <td>0</td>\n",
       "      <td>0</td>\n",
       "      <td>0.000000</td>\n",
       "      <td>0.224490</td>\n",
       "      <td>0.305068</td>\n",
       "      <td>0.75</td>\n",
       "      <td>0.000000</td>\n",
       "      <td>1</td>\n",
       "      <td>0</td>\n",
       "      <td>0</td>\n",
       "      <td>0</td>\n",
       "      <td>0.347826</td>\n",
       "    </tr>\n",
       "    <tr>\n",
       "      <th>9</th>\n",
       "      <td>0</td>\n",
       "      <td>0</td>\n",
       "      <td>0.000000</td>\n",
       "      <td>0.306122</td>\n",
       "      <td>0.372860</td>\n",
       "      <td>0.76</td>\n",
       "      <td>0.000000</td>\n",
       "      <td>1</td>\n",
       "      <td>0</td>\n",
       "      <td>0</td>\n",
       "      <td>0</td>\n",
       "      <td>0.391304</td>\n",
       "    </tr>\n",
       "  </tbody>\n",
       "</table>\n",
       "</div>"
      ],
      "text/plain": [
       "   holiday  workingday   weather      temp     atemp  humidity  windspeed  \\\n",
       "0        0           0  0.000000  0.224490  0.305068      0.81   0.000000   \n",
       "1        0           0  0.000000  0.204082  0.288064      0.80   0.000000   \n",
       "2        0           0  0.000000  0.204082  0.288064      0.80   0.000000   \n",
       "3        0           0  0.000000  0.224490  0.305068      0.75   0.000000   \n",
       "4        0           0  0.000000  0.224490  0.305068      0.75   0.000000   \n",
       "5        0           0  0.333333  0.224490  0.271171      0.75   0.105325   \n",
       "6        0           0  0.000000  0.204082  0.288064      0.80   0.000000   \n",
       "7        0           0  0.000000  0.183673  0.271171      0.86   0.000000   \n",
       "8        0           0  0.000000  0.224490  0.305068      0.75   0.000000   \n",
       "9        0           0  0.000000  0.306122  0.372860      0.76   0.000000   \n",
       "\n",
       "   winter  spring  summer  autumn      hour  \n",
       "0       1       0       0       0  0.000000  \n",
       "1       1       0       0       0  0.043478  \n",
       "2       1       0       0       0  0.086957  \n",
       "3       1       0       0       0  0.130435  \n",
       "4       1       0       0       0  0.173913  \n",
       "5       1       0       0       0  0.217391  \n",
       "6       1       0       0       0  0.260870  \n",
       "7       1       0       0       0  0.304348  \n",
       "8       1       0       0       0  0.347826  \n",
       "9       1       0       0       0  0.391304  "
      ]
     },
     "execution_count": 13,
     "metadata": {},
     "output_type": "execute_result"
    }
   ],
   "source": [
    "# df_norm = dfX.copy()\n",
    "# df_norm['count'] = (dfX['count'] - dfX['count'].min()) / (dfX['count'].max() - dfX['count'].min())\n",
    "# df_norm['registered'] = (dfX['registered'] - dfX['registered'].min()) / (dfX['registered'].max() - dfX['registered'].min())\n",
    "# df_norm['casual'] = (dfX['casual'] - dfX['casual'].min()) / (dfX['casual'].max() - dfX['casual'].min())\n",
    "# df_norm['windspeed'] = (dfX['windspeed'] - dfX['windspeed'].min()) / (dfX['windspeed'].max() - dfX['windspeed'].min())\n",
    "# df_norm['humidity'] = (dfX['humidity'] - dfX['humidity'].min()) / (dfX['humidity'].max() - dfX['humidity'].min())\n",
    "# df_norm['atemp'] = (dfX['atemp'] - dfX['atemp'].min()) / (dfX['atemp'].max() - dfX['atemp'].min())\n",
    "# df_norm['temp'] = (dfX['temp'] - dfX['temp'].min()) / (dfX['temp'].max() - dfX['temp'].min())\n",
    "\n",
    "columns = ['weather', 'temp', 'atemp', 'humidity', 'windspeed', 'hour']\n",
    "for c in columns:\n",
    "    dfX[c] = (dfX[c] - dfX[c].min())/(dfX[c].max() - dfX[c].min())\n",
    "\n",
    "#df_norm = (dfX - dfX.min()) / (dfX.max() - dfX.min())\n",
    "#df_norm.head(10)\n",
    "dfX.head(10)"
   ]
  },
  {
   "cell_type": "markdown",
   "metadata": {
    "collapsed": true
   },
   "source": [
    "### 3c. Create new multivariate models using the engineered features.\n",
    "### Question 7: Do you see any improvement in the performance? why? "
   ]
  },
  {
   "cell_type": "code",
   "execution_count": 16,
   "metadata": {},
   "outputs": [
    {
     "name": "stdout",
     "output_type": "stream",
     "text": [
      "Intercept: [44.68319571]\n",
      "Coefficients: [  -8.8608083    -0.49777452  -18.04798882  263.71927624  107.21398026\n",
      " -211.58737713    0.39805843   -6.33873284    7.86872376  -19.52162791\n",
      "   62.67483269  168.9450001 ]\n"
     ]
    }
   ],
   "source": [
    "# define a SGDRegressor\n",
    "clf = SGDRegressor(max_iter = 1000, penalty = 'none', learning_rate = 'invscaling', eta0 = 0.01)\n",
    "# split the data into training and validation\n",
    "#X_train, X_test, y_train, y_test = train_test_split(df_norm, dfY, train_size= 0.80, random_state=0)\n",
    "X_train, X_test, y_train, y_test = train_test_split(dfX, dfY, train_size= 0.80, random_state=0)\n",
    "# train the regressor on training data\n",
    "clf.fit(X_train, y_train)\n",
    "# print the coefficients and intercept\n",
    "w = clf.coef_\n",
    "b = clf.intercept_\n",
    "print \"Intercept:\", b\n",
    "print \"Coefficients:\", w"
   ]
  },
  {
   "cell_type": "code",
   "execution_count": 17,
   "metadata": {},
   "outputs": [
    {
     "name": "stdout",
     "output_type": "stream",
     "text": [
      "RMSE: 148.52473298494797\n",
      "RMSE2: 148.52473298494797\n"
     ]
    }
   ],
   "source": [
    "# print RMSE for the prediction of both training and validation sets\n",
    "y_predict = clf.predict(X_test)\n",
    "\n",
    "rmse = np.sqrt(np.mean((y_predict - y_test)**2))\n",
    "print \"RMSE:\", rmse\n",
    "rmse2 = np.sqrt(mean_squared_error(y_test,y_predict))\n",
    "print \"RMSE2:\", rmse2"
   ]
  },
  {
   "cell_type": "markdown",
   "metadata": {
    "collapsed": true
   },
   "source": [
    "# 4. Evaluation of Model performance\n",
    "\n",
    "* Read the test dataset (Bike_test.csv)\n",
    "* Apply the same feature engineering techniques on the test data.\n",
    "* Evaluate your best model from the previous step on the test data and report the performance.\n",
    "\n",
    "### QUestion 8: Is there a significant difference between the results on validation set and the test set? "
   ]
  },
  {
   "cell_type": "code",
   "execution_count": 18,
   "metadata": {},
   "outputs": [],
   "source": [
    "dataset2 = pandas.read_csv('./Bike_test.csv', sep=\",\")\n",
    "dataset_cat = pandas.get_dummies(dataset2, columns=[\"season\"])\n",
    "dataset_ren = dataset_cat.rename(columns = {'season_1':'winter', 'season_2':'spring', 'season_3':'summer', 'season_4':'autumn',})\n",
    "\n",
    "# Create dfX\n",
    "dfX = dataset_ren.drop(['datetime'], axis = 1)\n",
    "dfX['hour'] = pandas.to_datetime(dataset2['datetime']).dt.hour\n",
    "\n",
    "columns = ['weather', 'temp', 'atemp', 'humidity', 'windspeed', 'hour']\n",
    "for c in columns:\n",
    "    dfX[c] = (dfX[c] - dfX[c].min())/(dfX[c].max() - dfX[c].min())"
   ]
  },
  {
   "cell_type": "code",
   "execution_count": 19,
   "metadata": {},
   "outputs": [
    {
     "name": "stdout",
     "output_type": "stream",
     "text": [
      "[ 27.57518791  39.60330074  46.94873553 ... 174.89567795 193.92139304\n",
      " 178.59675171]\n"
     ]
    }
   ],
   "source": [
    "y_predicted = clf.predict(dfX)\n",
    "print (y_predicted)"
   ]
  }
 ],
 "metadata": {
  "anaconda-cloud": {},
  "kernelspec": {
   "display_name": "Python 2",
   "language": "python",
   "name": "python2"
  },
  "language_info": {
   "codemirror_mode": {
    "name": "ipython",
    "version": 2
   },
   "file_extension": ".py",
   "mimetype": "text/x-python",
   "name": "python",
   "nbconvert_exporter": "python",
   "pygments_lexer": "ipython2",
   "version": "2.7.15"
  }
 },
 "nbformat": 4,
 "nbformat_minor": 1
}
